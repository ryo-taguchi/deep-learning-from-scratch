{
 "cells": [
  {
   "cell_type": "code",
   "execution_count": 11,
   "id": "06f06d03-6a45-4804-b3c9-0665bda427dc",
   "metadata": {},
   "outputs": [
    {
     "name": "stdout",
     "output_type": "stream",
     "text": [
      "AND======\n",
      "(0, 0): 0\n",
      "(0, 1): 0\n",
      "(1, 0): 0\n",
      "(1, 1): 1\n",
      "\n",
      "NAND=====\n",
      "(0, 0): 1\n",
      "(0, 1): 1\n",
      "(1, 0): 1\n",
      "(1, 1): 0\n",
      "\n",
      "OR=======\n",
      "(0, 0): 0\n",
      "(0, 1): 1\n",
      "(1, 0): 1\n",
      "(1, 1): 1\n",
      "\n"
     ]
    }
   ],
   "source": [
    "def and_unit(x1, x2):\n",
    "    w1, w2, theta = 0.5, 0.5, 0.7\n",
    "    output = w1*x1 + w2*x2\n",
    "    \n",
    "    if output <= theta:\n",
    "        return 0\n",
    "    else:\n",
    "        return 1\n",
    "\n",
    "def nand_unit(x1, x2):\n",
    "    w1, w2, theta = -0.5, -0.5, -0.7\n",
    "    output = w1*x1 + w2*x2\n",
    "    \n",
    "    if output <= theta:\n",
    "        return 0\n",
    "    else:\n",
    "        return 1\n",
    "\n",
    "\n",
    "def or_unit(x1, x2):\n",
    "    w1, w2, theta = 0.5, 0.5, 0.4\n",
    "    output = w1*x1 + w2*x2\n",
    "    \n",
    "    if output <= theta:\n",
    "        return 0\n",
    "    else:\n",
    "        return 1\n",
    "\n",
    "print(\"AND======\")\n",
    "for i in range(2):\n",
    "    for j in range(2):\n",
    "        print(\"(\" + str(i) + \", \" + str(j) + \"): \" + str(and_unit(i, j)))\n",
    "print(\"\")\n",
    "\n",
    "print(\"NAND=====\")\n",
    "for i in range(2):\n",
    "    for j in range(2):\n",
    "        print(\"(\" + str(i) + \", \" + str(j) + \"): \" + str(nand_unit(i, j)))\n",
    "print(\"\")\n",
    "\n",
    "print(\"OR=======\")\n",
    "for i in range(2):\n",
    "    for j in range(2):\n",
    "        print(\"(\" + str(i) + \", \" + str(j) + \"): \" + str(or_unit(i, j)))\n",
    "print(\"\")"
   ]
  },
  {
   "cell_type": "code",
   "execution_count": 8,
   "id": "dcfffe3f-abe4-4739-b3ab-2bae8932852e",
   "metadata": {},
   "outputs": [
    {
     "name": "stdout",
     "output_type": "stream",
     "text": [
      "[0.  0.5]\n",
      "-0.19999999999999996\n"
     ]
    }
   ],
   "source": [
    "import numpy as np\n",
    "\n",
    "x = np.array([0, 1]) # input\n",
    "w_and = np.array([0.5, 0.5]) # weight for and\n",
    "b_and = -0.7 # -theta = b, bias\n",
    "output_and = w_and * x\n",
    "\n",
    "print(output_and)\n",
    "\n",
    "result_and = np.sum(output_and) + b_and\n",
    "print(result_and)"
   ]
  },
  {
   "cell_type": "code",
   "execution_count": 15,
   "id": "e1409236-1131-48da-bdf2-c3972ed338e2",
   "metadata": {},
   "outputs": [
    {
     "name": "stdout",
     "output_type": "stream",
     "text": [
      "AND======\n",
      "(0, 0): 0\n",
      "(0, 1): 0\n",
      "(1, 0): 0\n",
      "(1, 1): 1\n",
      "\n",
      "NAND=====\n",
      "(0, 0): 1\n",
      "(0, 1): 1\n",
      "(1, 0): 1\n",
      "(1, 1): 0\n",
      "\n",
      "OR=======\n",
      "(0, 0): 0\n",
      "(0, 1): 1\n",
      "(1, 0): 1\n",
      "(1, 1): 1\n",
      "\n"
     ]
    }
   ],
   "source": [
    "def and_unit(x1, x2):\n",
    "    x = np.array([x1, x2])\n",
    "    w = np.array([0.5, 0.5])\n",
    "    b = -0.7\n",
    "    output = np.sum(w * x) + b\n",
    "    \n",
    "    if output <= 0:\n",
    "        return 0\n",
    "    else:\n",
    "        return 1\n",
    "\n",
    "def nand_unit(x1, x2):\n",
    "    x = np.array([x1, x2])\n",
    "    w = np.array([-0.5, -0.5])\n",
    "    b = 0.7\n",
    "    output = np.sum(w * x) + b\n",
    "    \n",
    "    if output <= 0:\n",
    "        return 0\n",
    "    else:\n",
    "        return 1\n",
    "\n",
    "def or_unit(x1, x2):\n",
    "    x = np.array([x1, x2])\n",
    "    w = np.array([0.5, 0.5])\n",
    "    b = -0.3\n",
    "    output = np.sum(w * x) + b\n",
    "    \n",
    "    if output <= 0:\n",
    "        return 0\n",
    "    else:\n",
    "        return 1\n",
    "    \n",
    "    \n",
    "print(\"AND======\")\n",
    "for i in range(2):\n",
    "    for j in range(2):\n",
    "        print(\"(\" + str(i) + \", \" + str(j) + \"): \" + str(and_unit(i, j))) \n",
    "print(\"\")\n",
    "\n",
    "print(\"NAND=====\")\n",
    "for i in range(2):\n",
    "    for j in range(2):\n",
    "        print(\"(\" + str(i) + \", \" + str(j) + \"): \" + str(nand_unit(i, j))) \n",
    "print(\"\")\n",
    "\n",
    "print(\"OR=======\")\n",
    "for i in range(2):\n",
    "    for j in range(2):\n",
    "        print(\"(\" + str(i) + \", \" + str(j) + \"): \" + str(or_unit(i, j))) \n",
    "print(\"\")\n"
   ]
  },
  {
   "cell_type": "code",
   "execution_count": 1,
   "id": "f6ba79c1-3320-447d-8983-f2a802b256b2",
   "metadata": {},
   "outputs": [
    {
     "name": "stdout",
     "output_type": "stream",
     "text": [
      "XOR======\n",
      "(0, 0): 0\n",
      "(0, 1): 1\n",
      "(1, 0): 1\n",
      "(1, 1): 0\n"
     ]
    }
   ],
   "source": [
    "import numpy as np\n",
    "\n",
    "def and_unit(x1, x2):\n",
    "    x = np.array([x1, x2])\n",
    "    w = np.array([0.5, 0.5])\n",
    "    b = -0.7\n",
    "    output = np.sum(w * x) + b\n",
    "    \n",
    "    if output <= 0:\n",
    "        return 0\n",
    "    else:\n",
    "        return 1\n",
    "\n",
    "def nand_unit(x1, x2):\n",
    "    x = np.array([x1, x2])\n",
    "    w = np.array([-0.5, -0.5])\n",
    "    b = 0.7\n",
    "    output = np.sum(w * x) + b\n",
    "    \n",
    "    if output <= 0:\n",
    "        return 0\n",
    "    else:\n",
    "        return 1\n",
    "\n",
    "def or_unit(x1, x2):\n",
    "    x = np.array([x1, x2])\n",
    "    w = np.array([0.5, 0.5])\n",
    "    b = -0.3\n",
    "    output = np.sum(w * x) + b\n",
    "    \n",
    "    if output <= 0:\n",
    "        return 0\n",
    "    else:\n",
    "        return 1\n",
    "\n",
    "def xor_unit(x1, x2):\n",
    "    s1 = nand_unit(x1, x2)\n",
    "    s2 = or_unit(x1, x2)\n",
    "    output = and_unit(s1, s2)\n",
    "    return output\n",
    "\n",
    "print(\"XOR======\")\n",
    "for i in range(2):\n",
    "    for j in range(2):\n",
    "        print(\"(\" + str(i) + \", \" + str(j) + \"): \" + str(xor_unit(i, j)))"
   ]
  },
  {
   "cell_type": "markdown",
   "id": "366cb02e-9752-4461-9e14-4e266186ff3d",
   "metadata": {},
   "source": [
    "# 2022/05/26 復習"
   ]
  },
  {
   "cell_type": "markdown",
   "id": "14778283-5427-450b-8a10-402bc5f60b56",
   "metadata": {},
   "source": [
    "## 2.3 パーセプトロンの実装"
   ]
  },
  {
   "cell_type": "markdown",
   "id": "7603ccaf-d1c6-4d88-888e-821e038281f4",
   "metadata": {},
   "source": [
    "### 2.3.1 簡単な実装"
   ]
  },
  {
   "cell_type": "code",
   "execution_count": 5,
   "id": "79567bc3-efcf-450e-bbee-985b3e81d99e",
   "metadata": {},
   "outputs": [],
   "source": [
    "def AND(x1, x2):\n",
    "    w1, w2, theta = 0.5, 0.5, 0.7\n",
    "    tmp = w1*x1 + w2*x2\n",
    "    if tmp <= theta:\n",
    "        return 0\n",
    "    elif tmp > theta:\n",
    "        return 1\n",
    "    else:\n",
    "        print(\"Something Error Occured!\")"
   ]
  },
  {
   "cell_type": "code",
   "execution_count": 6,
   "id": "0a3b2261-12f7-4f2d-8ada-ec81313745de",
   "metadata": {},
   "outputs": [
    {
     "data": {
      "text/plain": [
       "0"
      ]
     },
     "execution_count": 6,
     "metadata": {},
     "output_type": "execute_result"
    }
   ],
   "source": [
    "AND(0, 0)"
   ]
  },
  {
   "cell_type": "code",
   "execution_count": 7,
   "id": "7faac2d0-610b-4cfd-ba1d-54c1dc073dab",
   "metadata": {},
   "outputs": [
    {
     "data": {
      "text/plain": [
       "0"
      ]
     },
     "execution_count": 7,
     "metadata": {},
     "output_type": "execute_result"
    }
   ],
   "source": [
    "AND(0, 1)"
   ]
  },
  {
   "cell_type": "code",
   "execution_count": 8,
   "id": "13071d73-4639-4817-9b30-a49d82225e9d",
   "metadata": {},
   "outputs": [
    {
     "data": {
      "text/plain": [
       "0"
      ]
     },
     "execution_count": 8,
     "metadata": {},
     "output_type": "execute_result"
    }
   ],
   "source": [
    "AND(1, 0)"
   ]
  },
  {
   "cell_type": "code",
   "execution_count": 11,
   "id": "2638c4fe-1de7-48a3-a5f0-c7f213d54f4a",
   "metadata": {},
   "outputs": [
    {
     "data": {
      "text/plain": [
       "1"
      ]
     },
     "execution_count": 11,
     "metadata": {},
     "output_type": "execute_result"
    }
   ],
   "source": [
    "AND(1, 1)"
   ]
  },
  {
   "cell_type": "markdown",
   "id": "2c05d2ab-e727-4de6-819e-e79e4e71916b",
   "metadata": {},
   "source": [
    "### 2.3.2 重みとバイアスの導入"
   ]
  },
  {
   "cell_type": "code",
   "execution_count": 10,
   "id": "308abf26-2ca2-4172-9d8a-675a23abf9ad",
   "metadata": {},
   "outputs": [
    {
     "name": "stdout",
     "output_type": "stream",
     "text": [
      "[0.  0.5]\n",
      "0.5\n",
      "-0.19999999999999996\n"
     ]
    }
   ],
   "source": [
    "import numpy as np\n",
    "x = np.array([0, 1])\n",
    "w = np.array([0.5, 0.5])\n",
    "b = -0.7 \n",
    "\n",
    "print(w*x)\n",
    "\n",
    "print(np.sum(w*x))\n",
    "\n",
    "print(np.sum(w*x) + b)"
   ]
  },
  {
   "cell_type": "markdown",
   "id": "5be6313d-c977-4f15-b958-36126d6f044a",
   "metadata": {},
   "source": [
    "### 2.3.3 重みとバイアスによる実装"
   ]
  },
  {
   "cell_type": "code",
   "execution_count": 15,
   "id": "4b07db79-161d-40ab-b832-8656720f3bbf",
   "metadata": {},
   "outputs": [],
   "source": [
    "def AND(x1, x2):\n",
    "    x = np.array([x1, x2])\n",
    "    w = np.array([0.5, 0.5])\n",
    "    b = -0.7\n",
    "    \n",
    "    if np.sum(x*w) + b <= 0:\n",
    "        return 0\n",
    "    elif np.sum(x*2) + b > 0:\n",
    "        return 1\n",
    "    else:\n",
    "        print(\"Something Error Occured!\")"
   ]
  },
  {
   "cell_type": "code",
   "execution_count": 16,
   "id": "2f87b89b-6610-4006-91df-1193a52c4f6c",
   "metadata": {},
   "outputs": [
    {
     "name": "stdout",
     "output_type": "stream",
     "text": [
      "AND(0, 0): 0\n",
      "AND(0, 1): 0\n",
      "AND(1, 0): 0\n",
      "AND(1, 1): 1\n"
     ]
    }
   ],
   "source": [
    "print(\"AND(0, 0):\", AND(0,0))\n",
    "print(\"AND(0, 1):\", AND(0,1))\n",
    "print(\"AND(1, 0):\", AND(1,0))\n",
    "print(\"AND(1, 1):\", AND(1,1))"
   ]
  },
  {
   "cell_type": "code",
   "execution_count": 17,
   "id": "4fe5c5e6-5bad-4cfc-96d1-5a10b0bbab3e",
   "metadata": {},
   "outputs": [],
   "source": [
    "def NAND(x1, x2):\n",
    "    x = np.array([x1, x2])\n",
    "    w = np.array([-0.5, -0.5])\n",
    "    b = 0.7\n",
    "    \n",
    "    if np.sum(x*w) + b <= 0:\n",
    "        return 0\n",
    "    elif np.sum(x*2) + b > 0:\n",
    "        return 1\n",
    "    else:\n",
    "        print(\"Something Error Occured!\")"
   ]
  },
  {
   "cell_type": "code",
   "execution_count": 18,
   "id": "472f6aa3-1b4c-484c-b6fb-71272c923dec",
   "metadata": {},
   "outputs": [],
   "source": [
    "def OR(x1, x2):\n",
    "    x = np.array([x1, x2])\n",
    "    w = np.array([0.5, 0.5])\n",
    "    b = -0.2\n",
    "    \n",
    "    if np.sum(x*w) + b <= 0:\n",
    "        return 0\n",
    "    elif np.sum(x*2) + b > 0:\n",
    "        return 1\n",
    "    else:\n",
    "        print(\"Something Error Occured!\")"
   ]
  },
  {
   "cell_type": "code",
   "execution_count": 19,
   "id": "34fa0fbc-344f-4f3a-a6c0-4a95da793fd1",
   "metadata": {},
   "outputs": [
    {
     "name": "stdout",
     "output_type": "stream",
     "text": [
      "NAND(0, 0): 1\n",
      "NAND(0, 1): 1\n",
      "NAND(1, 0): 1\n",
      "NAND(1, 1): 0\n"
     ]
    }
   ],
   "source": [
    "print(\"NAND(0, 0):\", NAND(0,0))\n",
    "print(\"NAND(0, 1):\", NAND(0,1))\n",
    "print(\"NAND(1, 0):\", NAND(1,0))\n",
    "print(\"NAND(1, 1):\", NAND(1,1))"
   ]
  },
  {
   "cell_type": "code",
   "execution_count": 20,
   "id": "e4ce497b-908b-4fe8-bfc4-39a40af88d86",
   "metadata": {},
   "outputs": [
    {
     "name": "stdout",
     "output_type": "stream",
     "text": [
      "OR(0, 0): 0\n",
      "OR(0, 1): 1\n",
      "OR(1, 0): 1\n",
      "OR(1, 1): 1\n"
     ]
    }
   ],
   "source": [
    "print(\"OR(0, 0):\", OR(0,0))\n",
    "print(\"OR(0, 1):\", OR(0,1))\n",
    "print(\"OR(1, 0):\", OR(1,0))\n",
    "print(\"OR(1, 1):\", OR(1,1))"
   ]
  },
  {
   "cell_type": "markdown",
   "id": "9b49f82a-9eda-430c-ac4e-3ac291dc5e27",
   "metadata": {},
   "source": [
    "## 2.4 パーセプトロンの限界"
   ]
  },
  {
   "cell_type": "markdown",
   "id": "bba31e33-d470-4fd8-bf4e-f6f660f3f0f6",
   "metadata": {},
   "source": [
    "## 2.4.1 XORゲート"
   ]
  },
  {
   "cell_type": "code",
   "execution_count": 22,
   "id": "b4675bba-c2ed-4aa4-87b4-94ed9678fc93",
   "metadata": {},
   "outputs": [],
   "source": [
    "def XOR(x1, x2):\n",
    "    s1 = NAND(x1, x2)\n",
    "    s2 = OR(x1, x2)\n",
    "    y = AND(s1, s2)\n",
    "    \n",
    "    return y"
   ]
  },
  {
   "cell_type": "code",
   "execution_count": 23,
   "id": "632ba4f4-f56f-4bf7-80a1-cd135a9222fb",
   "metadata": {},
   "outputs": [
    {
     "name": "stdout",
     "output_type": "stream",
     "text": [
      "XOR(0, 0): 0\n",
      "XOR(0, 1): 1\n",
      "XOR(1, 0): 1\n",
      "XOR(1, 1): 0\n"
     ]
    }
   ],
   "source": [
    "print(\"XOR(0, 0):\", XOR(0,0))\n",
    "print(\"XOR(0, 1):\", XOR(0,1))\n",
    "print(\"XOR(1, 0):\", XOR(1,0))\n",
    "print(\"XOR(1, 1):\", XOR(1,1))"
   ]
  },
  {
   "cell_type": "code",
   "execution_count": null,
   "id": "1f8f2fc4-05a4-47c6-a948-269c6d8e47fb",
   "metadata": {},
   "outputs": [],
   "source": []
  }
 ],
 "metadata": {
  "kernelspec": {
   "display_name": "d2l:Python",
   "language": "python",
   "name": "conda-env-d2l-py"
  },
  "language_info": {
   "codemirror_mode": {
    "name": "ipython",
    "version": 3
   },
   "file_extension": ".py",
   "mimetype": "text/x-python",
   "name": "python",
   "nbconvert_exporter": "python",
   "pygments_lexer": "ipython3",
   "version": "3.9.9"
  }
 },
 "nbformat": 4,
 "nbformat_minor": 5
}
